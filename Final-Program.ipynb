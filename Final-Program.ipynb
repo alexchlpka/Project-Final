{
 "cells": [
  {
   "cell_type": "code",
   "execution_count": 1,
   "metadata": {},
   "outputs": [],
   "source": [
    "import numpy as np\n",
    "import pandas as pd \n",
    "import os\n",
    "import matplotlib.pyplot as plt\n",
    "import seaborn as sns\n",
    "from pandas import DataFrame , read_csv"
   ]
  },
  {
   "cell_type": "code",
   "execution_count": 2,
   "metadata": {},
   "outputs": [],
   "source": [
    "fac = pd.read_csv(\"Facilities Data.csv\")\n"
   ]
  },
  {
   "cell_type": "code",
   "execution_count": 10,
   "metadata": {},
   "outputs": [
    {
     "name": "stdout",
     "output_type": "stream",
     "text": [
      "Highland Park                30\n",
      "Squirrel Hill South          29\n",
      "Perry North                  20\n",
      "Brookline                    19\n",
      "Strip District               15\n",
      "Hazelwood                    14\n",
      "Brighton Heights             14\n",
      "Carrick                      12\n",
      "Lincoln-Lemington-Belmar     11\n",
      "South Side Slopes            11\n",
      "Elliott                      11\n",
      "Morningside                  10\n",
      "Point Breeze                  8\n",
      "Mount Washington              7\n",
      "Lower Lawrenceville           7\n",
      "Beltzhoover                   7\n",
      "Shadyside                     7\n",
      "Sheraden                      7\n",
      "Central Business District     7\n",
      "Spring Hill-City View         6\n",
      "Bedford Dwellings             6\n",
      "Beechview                     6\n",
      "Bloomfield                    6\n",
      "Homewood West                 6\n",
      "Banksville                    5\n",
      "South Side Flats              5\n",
      "Lincoln Place                 5\n",
      "Regent Square                 4\n",
      "Garfield                      4\n",
      "Squirrel Hill North           4\n",
      "                             ..\n",
      "East Liberty                  3\n",
      "Allegheny West                3\n",
      "Homewood South                3\n",
      "North Oakland                 3\n",
      "Chateau                       2\n",
      "Hays                          2\n",
      "West End                      2\n",
      "East Hills                    2\n",
      "Duquesne Heights              2\n",
      "Perry South                   2\n",
      "Upper Hill                    2\n",
      "Overbrook                     2\n",
      "South Oakland                 2\n",
      "East Allegheny                1\n",
      "California-Kirkbride          1\n",
      "Bon Air                       1\n",
      "Homewood North                1\n",
      "Central Oakland               1\n",
      "Middle Hill                   1\n",
      "Fineview                      1\n",
      "Larimer                       1\n",
      "Swisshelm Park                1\n",
      "Glen Hazel                    1\n",
      "West Oakland                  1\n",
      "Stanton Heights               1\n",
      "Crafton Heights               1\n",
      "Point Breeze North            1\n",
      "Fairywood                     1\n",
      "Central Northside             1\n",
      "Upper Lawrenceville           1\n",
      "Name: neighborhood, Length: 75, dtype: int64\n"
     ]
    }
   ],
   "source": [
    "neigh_count = fac['neighborhood'].value_counts()\n",
    "\n",
    "print(neigh_count)"
   ]
  },
  {
   "cell_type": "code",
   "execution_count": null,
   "metadata": {},
   "outputs": [],
   "source": []
  }
 ],
 "metadata": {
  "kernelspec": {
   "display_name": "Python 3.7",
   "language": "python",
   "name": "python3"
  },
  "language_info": {
   "codemirror_mode": {
    "name": "ipython",
    "version": 3
   },
   "file_extension": ".py",
   "mimetype": "text/x-python",
   "name": "python",
   "nbconvert_exporter": "python",
   "pygments_lexer": "ipython3",
   "version": "3.7.0"
  }
 },
 "nbformat": 4,
 "nbformat_minor": 4
}

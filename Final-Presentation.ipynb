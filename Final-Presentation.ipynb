{
 "cells": [
  {
   "cell_type": "markdown",
   "metadata": {},
   "source": [
    "# The Best Neighborhood in Pittsburgh\n",
    "\n",
    "## What Makes a Neighborhood 'The Best?'\n",
    "\n",
    "For this project, we decided that in order to decide the best neighborhood, we had to take into account the safety, value, and fun within each individual neighborhood. We will be using a points system to determine the best neighborhood because the metrics we are using give us both \"positive\" and \"negative\" values when we normalize it. The final scores will be compared and the highest score will determine the best neighborhood. \n",
    "\n",
    "## Our Metric\n",
    "\n",
    "The metrics we used for this project are crime/safey, property value, and facilities within each neighborhood. The dataset we use for crime gives us a higher value for more crime, which is a negative thing. The other two will give higher values for positive things. \n",
    "\n",
    "### Crime/Safety\n",
    "\n",
    "(Enter a brief description of the Crime/Safety dataset)\n",
    "\n",
    "### Housing Value\n",
    "\n",
    "The dataset we are using for property value gives an estimate of the amount of properties within a neighborhood that have a certain value. The values are given in ranges that we can use to score the neighborhoods\n",
    "\n",
    "### Facilities\n",
    "\n",
    "(Enter a brief description of the Facilities dataset)"
   ]
  },
  {
   "cell_type": "code",
   "execution_count": null,
   "metadata": {},
   "outputs": [],
   "source": []
  }
 ],
 "metadata": {
  "kernelspec": {
   "display_name": "Python 3.7",
   "language": "python",
   "name": "python3"
  },
  "language_info": {
   "codemirror_mode": {
    "name": "ipython",
    "version": 3
   },
   "file_extension": ".py",
   "mimetype": "text/x-python",
   "name": "python",
   "nbconvert_exporter": "python",
   "pygments_lexer": "ipython3",
   "version": "3.7.0"
  }
 },
 "nbformat": 4,
 "nbformat_minor": 4
}

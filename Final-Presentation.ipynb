{
 "cells": [
  {
   "cell_type": "markdown",
   "metadata": {},
   "source": [
    "# The Best Neighborhood in Pittsburgh\n",
    "\n",
    "## What Makes a Neighborhood 'The Best?'\n",
    "\n",
    "For this project, we decided that in order to determine the best neighborhood, we had to take into account the safety, value, and fun within each individual neighborhood. We will be using a points system to determine the best neighborhood because the metrics we are using give us both \"positive\" and \"negative\" values when we normalize it. The final scores will be compared and the highest score will determine the best neighborhood. \n",
    "\n",
    "## Our Metric\n",
    "\n",
    "The metrics we used for this project are crime/safety, property value, and facilities within each neighborhood. The property value and facities datasets will be used to generate points. The higher the value or the more facilities available, the higher the score for each neighborhood. Both crime datasets will be used to take away points. The higher the rate of crime, the more points lost.\n",
    "\n",
    "### Crime/Safety\n",
    "\n",
    "For crime and safety, we are using two different datasets. One holds arrest records and lists the neighborhood it took place in. The other holds firearm seizure records and lists the neighborhood as well. The idea is to tally up how many arrests and firearm seizures happened in each neighborhood and combine them into a single metric. The lower the value, the higher a neighborhood will rank.\n",
    "\n",
    "### Housing Value\n",
    "\n",
    "The dataset we are using for property value gives an estimate of the amount of properties within a neighborhood that fall within a certain value range. Each range was assigned a multiplier that got increasingly higher as the value range increased. This was used to create a metric that represents the value of the neighborhood's homes as a whole.\n",
    "\n",
    "### Facilities\n",
    "\n",
    "Our facilities dataset lists things like shelters, pools, utilities, amongst other things. The total number of facilities in each neighborhood will determine a point value."
   ]
  },
  {
   "cell_type": "code",
   "execution_count": null,
   "metadata": {},
   "outputs": [],
   "source": []
  }
 ],
 "metadata": {
  "kernelspec": {
   "display_name": "Python 3.7",
   "language": "python",
   "name": "python3"
  },
  "language_info": {
   "codemirror_mode": {
    "name": "ipython",
    "version": 3
   },
   "file_extension": ".py",
   "mimetype": "text/x-python",
   "name": "python",
   "nbconvert_exporter": "python",
   "pygments_lexer": "ipython3",
   "version": "3.7.0"
  }
 },
 "nbformat": 4,
 "nbformat_minor": 4
}
